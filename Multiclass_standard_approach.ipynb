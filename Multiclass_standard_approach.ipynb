{
  "nbformat": 4,
  "nbformat_minor": 0,
  "metadata": {
    "colab": {
      "name": "NLP - standard approach.ipynb",
      "version": "0.3.2",
      "provenance": [],
      "collapsed_sections": [],
      "toc_visible": true,
      "include_colab_link": true
    },
    "kernelspec": {
      "name": "python3",
      "display_name": "Python 3"
    },
    "accelerator": "GPU"
  },
  "cells": [
    {
      "cell_type": "markdown",
      "metadata": {
        "id": "view-in-github",
        "colab_type": "text"
      },
      "source": [
        "<a href=\"https://colab.research.google.com/github/z3193631/NLP_Demo/blob/master/Multiclass_standard_approach.ipynb\" target=\"_parent\"><img src=\"https://colab.research.google.com/assets/colab-badge.svg\" alt=\"Open In Colab\"/></a>"
      ]
    },
    {
      "cell_type": "markdown",
      "metadata": {
        "id": "3zvajfrh3k2O",
        "colab_type": "text"
      },
      "source": [
        "# Bag of Words Approach and Logistic Regression for NLP"
      ]
    },
    {
      "cell_type": "code",
      "metadata": {
        "id": "Xf-ywkZBq-SE",
        "colab_type": "code",
        "colab": {}
      },
      "source": [
        "import pandas as pd, numpy as np\n",
        "from sklearn.linear_model import LogisticRegression\n",
        "from sklearn.feature_extraction.text import CountVectorizer, TfidfVectorizer\n",
        "from sklearn.metrics import roc_auc_score"
      ],
      "execution_count": 0,
      "outputs": []
    },
    {
      "cell_type": "code",
      "metadata": {
        "id": "ywg0dDGku2t9",
        "colab_type": "code",
        "colab": {}
      },
      "source": [
        "train = pd.read_csv('train_sample.csv')\n",
        "vals = pd.read_csv('val_sample.csv')\n",
        "test = pd.read_csv('test.csv.zip')\n",
        "test_label = pd.read_csv('test_labels.csv.zip')"
      ],
      "execution_count": 0,
      "outputs": []
    },
    {
      "cell_type": "code",
      "metadata": {
        "id": "Mwsg6r2w2a5L",
        "colab_type": "code",
        "colab": {}
      },
      "source": [
        "# from google.colab import drive\n",
        "# drive.mount('/content/drive')"
      ],
      "execution_count": 0,
      "outputs": []
    },
    {
      "cell_type": "code",
      "metadata": {
        "id": "5nZmI8I_w6gC",
        "colab_type": "code",
        "colab": {}
      },
      "source": [
        "join_test = pd.merge(test,test_label, how='inner')\n",
        "final_test = join_test[join_test.ne(-1).all(axis=1)]"
      ],
      "execution_count": 0,
      "outputs": []
    },
    {
      "cell_type": "code",
      "metadata": {
        "id": "9L-m37EtxtnT",
        "colab_type": "code",
        "outputId": "17defcc2-5471-4590-96f6-b777c6ee49e6",
        "colab": {
          "base_uri": "https://localhost:8080/",
          "height": 34
        }
      },
      "source": [
        "lens = train.comment_text.str.len()\n",
        "lens.mean(), lens.std(), lens.max()"
      ],
      "execution_count": 12,
      "outputs": [
        {
          "output_type": "execute_result",
          "data": {
            "text/plain": [
              "(385.188, 579.9463720469764, 5000)"
            ]
          },
          "metadata": {
            "tags": []
          },
          "execution_count": 12
        }
      ]
    },
    {
      "cell_type": "code",
      "metadata": {
        "id": "7mjhSJ-zyF0y",
        "colab_type": "code",
        "outputId": "3be2fa62-0aec-40cd-8978-1dda107e4713",
        "colab": {
          "base_uri": "https://localhost:8080/",
          "height": 286
        }
      },
      "source": [
        "lens.hist()"
      ],
      "execution_count": 13,
      "outputs": [
        {
          "output_type": "execute_result",
          "data": {
            "text/plain": [
              "<matplotlib.axes._subplots.AxesSubplot at 0x7f6f74fde9e8>"
            ]
          },
          "metadata": {
            "tags": []
          },
          "execution_count": 13
        },
        {
          "output_type": "display_data",
          "data": {
            "image/png": "[encoded data removed]",
            "text/plain": [
              "<Figure size 432x288 with 1 Axes>"
            ]
          },
          "metadata": {
            "tags": []
          }
        }
      ]
    },
    {
      "cell_type": "code",
      "metadata": {
        "id": "Y25pRBxKyWIp",
        "colab_type": "code",
        "outputId": "2d991806-2c36-4227-c1b6-fc913179bc04",
        "colab": {
          "base_uri": "https://localhost:8080/",
          "height": 297
        }
      },
      "source": [
        "label_cols = ['toxic', 'severe_toxic', 'obscene', 'threat', 'insult', 'identity_hate']\n",
        "train['none'] = 1-train[label_cols].max(axis=1)\n",
        "train.describe()"
      ],
      "execution_count": 14,
      "outputs": [
        {
          "output_type": "execute_result",
          "data": {
            "text/html": [
              "<div>\n",
              "<style scoped>\n",
              "    .dataframe tbody tr th:only-of-type {\n",
              "        vertical-align: middle;\n",
              "    }\n",
              "\n",
              "    .dataframe tbody tr th {\n",
              "        vertical-align: top;\n",
              "    }\n",
              "\n",
              "    .dataframe thead th {\n",
              "        text-align: right;\n",
              "    }\n",
              "</style>\n",
              "<table border=\"1\" class=\"dataframe\">\n",
              "  <thead>\n",
              "    <tr style=\"text-align: right;\">\n",
              "      <th></th>\n",
              "      <th>toxic</th>\n",
              "      <th>severe_toxic</th>\n",
              "      <th>obscene</th>\n",
              "      <th>threat</th>\n",
              "      <th>insult</th>\n",
              "      <th>identity_hate</th>\n",
              "      <th>none</th>\n",
              "    </tr>\n",
              "  </thead>\n",
              "  <tbody>\n",
              "    <tr>\n",
              "      <th>count</th>\n",
              "      <td>1000.000000</td>\n",
              "      <td>1000.00000</td>\n",
              "      <td>1000.000000</td>\n",
              "      <td>1000.000000</td>\n",
              "      <td>1000.000000</td>\n",
              "      <td>1000.000000</td>\n",
              "      <td>1000.000000</td>\n",
              "    </tr>\n",
              "    <tr>\n",
              "      <th>mean</th>\n",
              "      <td>0.092000</td>\n",
              "      <td>0.01200</td>\n",
              "      <td>0.048000</td>\n",
              "      <td>0.005000</td>\n",
              "      <td>0.048000</td>\n",
              "      <td>0.010000</td>\n",
              "      <td>0.902000</td>\n",
              "    </tr>\n",
              "    <tr>\n",
              "      <th>std</th>\n",
              "      <td>0.289171</td>\n",
              "      <td>0.10894</td>\n",
              "      <td>0.213873</td>\n",
              "      <td>0.070569</td>\n",
              "      <td>0.213873</td>\n",
              "      <td>0.099549</td>\n",
              "      <td>0.297463</td>\n",
              "    </tr>\n",
              "    <tr>\n",
              "      <th>min</th>\n",
              "      <td>0.000000</td>\n",
              "      <td>0.00000</td>\n",
              "      <td>0.000000</td>\n",
              "      <td>0.000000</td>\n",
              "      <td>0.000000</td>\n",
              "      <td>0.000000</td>\n",
              "      <td>0.000000</td>\n",
              "    </tr>\n",
              "    <tr>\n",
              "      <th>25%</th>\n",
              "      <td>0.000000</td>\n",
              "      <td>0.00000</td>\n",
              "      <td>0.000000</td>\n",
              "      <td>0.000000</td>\n",
              "      <td>0.000000</td>\n",
              "      <td>0.000000</td>\n",
              "      <td>1.000000</td>\n",
              "    </tr>\n",
              "    <tr>\n",
              "      <th>50%</th>\n",
              "      <td>0.000000</td>\n",
              "      <td>0.00000</td>\n",
              "      <td>0.000000</td>\n",
              "      <td>0.000000</td>\n",
              "      <td>0.000000</td>\n",
              "      <td>0.000000</td>\n",
              "      <td>1.000000</td>\n",
              "    </tr>\n",
              "    <tr>\n",
              "      <th>75%</th>\n",
              "      <td>0.000000</td>\n",
              "      <td>0.00000</td>\n",
              "      <td>0.000000</td>\n",
              "      <td>0.000000</td>\n",
              "      <td>0.000000</td>\n",
              "      <td>0.000000</td>\n",
              "      <td>1.000000</td>\n",
              "    </tr>\n",
              "    <tr>\n",
              "      <th>max</th>\n",
              "      <td>1.000000</td>\n",
              "      <td>1.00000</td>\n",
              "      <td>1.000000</td>\n",
              "      <td>1.000000</td>\n",
              "      <td>1.000000</td>\n",
              "      <td>1.000000</td>\n",
              "      <td>1.000000</td>\n",
              "    </tr>\n",
              "  </tbody>\n",
              "</table>\n",
              "</div>"
            ],
            "text/plain": [
              "             toxic  severe_toxic  ...  identity_hate         none\n",
              "count  1000.000000    1000.00000  ...    1000.000000  1000.000000\n",
              "mean      0.092000       0.01200  ...       0.010000     0.902000\n",
              "std       0.289171       0.10894  ...       0.099549     0.297463\n",
              "min       0.000000       0.00000  ...       0.000000     0.000000\n",
              "25%       0.000000       0.00000  ...       0.000000     1.000000\n",
              "50%       0.000000       0.00000  ...       0.000000     1.000000\n",
              "75%       0.000000       0.00000  ...       0.000000     1.000000\n",
              "max       1.000000       1.00000  ...       1.000000     1.000000\n",
              "\n",
              "[8 rows x 7 columns]"
            ]
          },
          "metadata": {
            "tags": []
          },
          "execution_count": 14
        }
      ]
    },
    {
      "cell_type": "code",
      "metadata": {
        "id": "FrX22nVH0uWq",
        "colab_type": "code",
        "outputId": "fdb263b0-6170-4425-a71f-cbae99ea719a",
        "colab": {
          "base_uri": "https://localhost:8080/",
          "height": 34
        }
      },
      "source": [
        "len(train),len(test)"
      ],
      "execution_count": 15,
      "outputs": [
        {
          "output_type": "execute_result",
          "data": {
            "text/plain": [
              "(1000, 153164)"
            ]
          },
          "metadata": {
            "tags": []
          },
          "execution_count": 15
        }
      ]
    },
    {
      "cell_type": "code",
      "metadata": {
        "id": "nIL9CmiZ0w39",
        "colab_type": "code",
        "colab": {}
      },
      "source": [
        "#making sure column is not empty\n",
        "COMMENT = 'comment_text'\n",
        "train[COMMENT].fillna(\"unknown\", inplace=True)\n",
        "test[COMMENT].fillna(\"unknown\", inplace=True)"
      ],
      "execution_count": 0,
      "outputs": []
    },
    {
      "cell_type": "markdown",
      "metadata": {
        "id": "F75WW_cN3blH",
        "colab_type": "text"
      },
      "source": [
        "## Model Building"
      ]
    },
    {
      "cell_type": "code",
      "metadata": {
        "id": "w0qE_x863UYj",
        "colab_type": "code",
        "colab": {}
      },
      "source": [
        "##create ngrams\n",
        "# import re, string\n",
        "# re_tok = re.compile(f'([{string.punctuation}“”¨«»®´·º½¾¿¡§£₤‘’])')\n",
        "\n",
        "# def tokenize(s): return re_tok.sub(r' \\1 ', s).split()"
      ],
      "execution_count": 0,
      "outputs": []
    },
    {
      "cell_type": "code",
      "metadata": {
        "id": "DyBo2dP15NOW",
        "colab_type": "code",
        "colab": {}
      },
      "source": [
        "# #This creates a sparse matrix with only a small number of non-zero elements (stored elements in the representation below).\n",
        "# n = train.shape[0]\n",
        "# vec = TfidfVectorizer(ngram_range=(1,2), tokenizer=tokenize,\n",
        "#                min_df=3, max_df=0.9, strip_accents='unicode', use_idf=1,\n",
        "#                smooth_idf=1, sublinear_tf=1 )\n",
        "# trn_term_doc = vec.fit_transform(train[COMMENT])\n",
        "# test_term_doc = vec.transform(test[COMMENT])\n",
        "\n",
        "# trn_term_doc, test_term_doc"
      ],
      "execution_count": 0,
      "outputs": []
    },
    {
      "cell_type": "code",
      "metadata": {
        "id": "VwYa2hXC5fJN",
        "colab_type": "code",
        "colab": {}
      },
      "source": [
        "# #naive bayes formula\n",
        "# def pr(y_i, y):\n",
        "#     p = x[y==y_i].sum(0)\n",
        "#     return (p+1) / ((y==y_i).sum()+1)"
      ],
      "execution_count": 0,
      "outputs": []
    },
    {
      "cell_type": "code",
      "metadata": {
        "id": "jYzoxm1h6Nw2",
        "colab_type": "code",
        "colab": {}
      },
      "source": [
        "# x = trn_term_doc\n",
        "# test_x = test_term_doc"
      ],
      "execution_count": 0,
      "outputs": []
    },
    {
      "cell_type": "code",
      "metadata": {
        "id": "btNC98SQ6y3k",
        "colab_type": "code",
        "colab": {}
      },
      "source": [
        "# #abstraction for the model steps\n",
        "\n",
        "# def get_mdl(y):\n",
        "#     y = y.values\n",
        "#     r = np.log(pr(1,y) / pr(0,y))\n",
        "#     m = LogisticRegression(C=4, dual=True)\n",
        "#     x_nb = x.multiply(r)\n",
        "#     return m.fit(x_nb, y), r\n",
        "  \n",
        "# #fit one model for each dependent variable\n",
        "# preds = np.zeros((len(test), len(label_cols)))\n",
        "\n",
        "# for i, j in enumerate(label_cols):\n",
        "#     print('fit', j)\n",
        "#     m,r = get_mdl(train[j])\n",
        "#     preds[:,i] = m.predict_proba(test_x.multiply(r))[:,1]\n",
        "    \n",
        "#     pred_test = m.predict_proba(test_x.multiply(r))[:,1]\n",
        "#     print('ROC AUC:', roc_auc_score(test_label[j], pred_test))\n",
        "#     loss.append(roc_auc_score(test_label[j], pred_test))"
      ],
      "execution_count": 0,
      "outputs": []
    },
    {
      "cell_type": "code",
      "metadata": {
        "id": "DpxufS2Y9maE",
        "colab_type": "code",
        "colab": {}
      },
      "source": [
        "# df = pd.concat([train['comment_text'], vals['comment_text']], axis=0)\n",
        "# df = df.fillna(\"unknown\")\n",
        "\n",
        "# nrow_train = train.shape[0]\n",
        "\n",
        "# vectorizer = TfidfVectorizer(stop_words='english', max_features=50000)\n",
        "# X = vectorizer.fit_transform(df)\n",
        "\n",
        "# col = ['toxic', 'severe_toxic', 'obscene', 'threat', 'insult', 'identity_hate']\n",
        "\n",
        "# preds = np.zeros((train.shape[0], len(col)))"
      ],
      "execution_count": 0,
      "outputs": []
    },
    {
      "cell_type": "code",
      "metadata": {
        "id": "-YMU6lihJeBN",
        "colab_type": "code",
        "colab": {}
      },
      "source": [
        "df = train['comment_text']\n",
        "df = df.fillna(\"unknown\")\n",
        "\n",
        "nrow_train = train.shape[0]\n",
        "\n",
        "vectorizer = TfidfVectorizer(stop_words='english', max_features=50000)\n",
        "X = vectorizer.fit_transform(df)\n",
        "\n",
        "col = ['toxic', 'severe_toxic', 'obscene', 'threat', 'insult', 'identity_hate']\n",
        "\n",
        "preds = np.zeros((train.shape[0], len(col)))"
      ],
      "execution_count": 0,
      "outputs": []
    },
    {
      "cell_type": "code",
      "metadata": {
        "id": "B_3ahKl5JfMx",
        "colab_type": "code",
        "outputId": "984f81a7-d353-4d22-dd03-4ff029e1c77f",
        "colab": {
          "base_uri": "https://localhost:8080/",
          "height": 442
        }
      },
      "source": [
        "loss = []\n",
        "\n",
        "Y = vectorizer.transform(final_test['comment_text']) #for test dataset validation\n",
        "\n",
        "for i, j in enumerate(col):\n",
        "    print('===Fit '+j)\n",
        "    model = LogisticRegression(penalty='l2')\n",
        "    model.fit(X, train[j])\n",
        "    preds[:,i] = model.predict_proba(X)[:,1]\n",
        "    \n",
        "    pred_train = model.predict_proba(X)[:,1]\n",
        "    pred_test = model.predict_proba(Y)[:,1]\n",
        "    print('ROC AUC:', roc_auc_score(final_test[j], pred_test))\n",
        "    loss.append(roc_auc_score(final_test[j], pred_test))\n",
        "    \n",
        "print('mean column-wise ROC AUC:', np.mean(loss))"
      ],
      "execution_count": 26,
      "outputs": [
        {
          "output_type": "stream",
          "text": [
            "===Fit toxic\n",
            "ROC AUC: 0.8976874019679926\n",
            "===Fit severe_toxic\n",
            "ROC AUC: 0.9489800853167608\n",
            "===Fit obscene\n",
            "ROC AUC: 0.9236615106993161\n",
            "===Fit threat\n",
            "ROC AUC: 0.9246947770530405\n"
          ],
          "name": "stdout"
        },
        {
          "output_type": "stream",
          "text": [
            "/usr/local/lib/python3.6/dist-packages/sklearn/linear_model/logistic.py:432: FutureWarning: Default solver will be changed to 'lbfgs' in 0.22. Specify a solver to silence this warning.\n",
            "  FutureWarning)\n",
            "/usr/local/lib/python3.6/dist-packages/sklearn/linear_model/logistic.py:432: FutureWarning: Default solver will be changed to 'lbfgs' in 0.22. Specify a solver to silence this warning.\n",
            "  FutureWarning)\n",
            "/usr/local/lib/python3.6/dist-packages/sklearn/linear_model/logistic.py:432: FutureWarning: Default solver will be changed to 'lbfgs' in 0.22. Specify a solver to silence this warning.\n",
            "  FutureWarning)\n",
            "/usr/local/lib/python3.6/dist-packages/sklearn/linear_model/logistic.py:432: FutureWarning: Default solver will be changed to 'lbfgs' in 0.22. Specify a solver to silence this warning.\n",
            "  FutureWarning)\n"
          ],
          "name": "stderr"
        },
        {
          "output_type": "stream",
          "text": [
            "===Fit insult\n",
            "ROC AUC: 0.8918130552450203\n",
            "===Fit identity_hate\n",
            "ROC AUC: 0.8867149052671137\n",
            "mean column-wise ROC AUC: 0.9122586225915406\n"
          ],
          "name": "stdout"
        },
        {
          "output_type": "stream",
          "text": [
            "/usr/local/lib/python3.6/dist-packages/sklearn/linear_model/logistic.py:432: FutureWarning: Default solver will be changed to 'lbfgs' in 0.22. Specify a solver to silence this warning.\n",
            "  FutureWarning)\n",
            "/usr/local/lib/python3.6/dist-packages/sklearn/linear_model/logistic.py:432: FutureWarning: Default solver will be changed to 'lbfgs' in 0.22. Specify a solver to silence this warning.\n",
            "  FutureWarning)\n"
          ],
          "name": "stderr"
        }
      ]
    },
    {
      "cell_type": "code",
      "metadata": {
        "id": "JKMMEal8BZ_z",
        "colab_type": "code",
        "colab": {}
      },
      "source": [
        ""
      ],
      "execution_count": 0,
      "outputs": []
    }
  ]
}